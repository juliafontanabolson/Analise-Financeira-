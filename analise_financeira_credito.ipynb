{
 "cells": [
  {
   "cell_type": "markdown",
   "id": "57b8da59",
   "metadata": {},
   "source": [
    "# 📊 Análise Financeira de Clientes de Cartão de Crédito"
   ]
  },
  {
   "cell_type": "code",
   "execution_count": null,
   "id": "518c3bce",
   "metadata": {},
   "outputs": [],
   "source": [
    "import pandas as pd\n",
    "import numpy as np\n",
    "import matplotlib.pyplot as plt\n",
    "import seaborn as sns\n",
    "\n",
    "# Carregar os dados\n",
    "df = pd.read_excel(\"default_of_credit_card_clients__courseware_version_1_21_19.xls\", header=1)"
   ]
  },
  {
   "cell_type": "markdown",
   "id": "d12119fb",
   "metadata": {},
   "source": [
    "## ✅ Exercício 1"
   ]
  },
  {
   "cell_type": "code",
   "execution_count": null,
   "id": "f7230fd8",
   "metadata": {},
   "outputs": [],
   "source": [
    "bill_features = ['BILL_AMT1', 'BILL_AMT2', 'BILL_AMT3', 'BILL_AMT4', 'BILL_AMT5', 'BILL_AMT6']\n",
    "pay_features = ['PAY_AMT1', 'PAY_AMT2', 'PAY_AMT3', 'PAY_AMT4', 'PAY_AMT5', 'PAY_AMT6']"
   ]
  },
  {
   "cell_type": "markdown",
   "id": "3d760d72",
   "metadata": {},
   "source": [
    "## ✅ Exercício 2"
   ]
  },
  {
   "cell_type": "code",
   "execution_count": null,
   "id": "d9577c24",
   "metadata": {},
   "outputs": [],
   "source": [
    "print(\"Resumo estatístico - Valores da Fatura\")\n",
    "print(df[bill_features].describe())"
   ]
  },
  {
   "cell_type": "markdown",
   "id": "354799e2",
   "metadata": {},
   "source": [
    "## ✅ Exercício 3"
   ]
  },
  {
   "cell_type": "code",
   "execution_count": null,
   "id": "94edc1d6",
   "metadata": {},
   "outputs": [],
   "source": [
    "plt.figure(figsize=(15, 8))\n",
    "for i, col in enumerate(bill_features):\n",
    "    plt.subplot(2, 3, i + 1)\n",
    "    plt.hist(df[col], bins=20, color='skyblue', edgecolor='black')\n",
    "    plt.title(col)\n",
    "plt.tight_layout()\n",
    "plt.show()"
   ]
  },
  {
   "cell_type": "markdown",
   "id": "202c1b81",
   "metadata": {},
   "source": [
    "## ✅ Exercício 4"
   ]
  },
  {
   "cell_type": "code",
   "execution_count": null,
   "id": "1649ca99",
   "metadata": {},
   "outputs": [],
   "source": [
    "print(\"Resumo estatístico - Valores de Pagamento\")\n",
    "print(df[pay_features].describe())"
   ]
  },
  {
   "cell_type": "markdown",
   "id": "cc33b781",
   "metadata": {},
   "source": [
    "## ✅ Exercício 5"
   ]
  },
  {
   "cell_type": "code",
   "execution_count": null,
   "id": "093848d3",
   "metadata": {},
   "outputs": [],
   "source": [
    "plt.figure(figsize=(15, 8))\n",
    "for i, col in enumerate(pay_features):\n",
    "    plt.subplot(2, 3, i + 1)\n",
    "    plt.hist(df[col], bins=20, color='lightgreen', edgecolor='black')\n",
    "    plt.title(col)\n",
    "    plt.xticks(rotation=45)\n",
    "plt.tight_layout()\n",
    "plt.show()"
   ]
  },
  {
   "cell_type": "markdown",
   "id": "008d997c",
   "metadata": {},
   "source": [
    "## ✅ Exercício 6"
   ]
  },
  {
   "cell_type": "code",
   "execution_count": null,
   "id": "65035193",
   "metadata": {},
   "outputs": [],
   "source": [
    "zeros_por_coluna = (df[pay_features] == 0).sum()\n",
    "print(\"Contagem de pagamentos iguais a zero:\")\n",
    "print(zeros_por_coluna)"
   ]
  },
  {
   "cell_type": "markdown",
   "id": "7dfed54b",
   "metadata": {},
   "source": [
    "## ✅ Exercício 7"
   ]
  },
  {
   "cell_type": "code",
   "execution_count": null,
   "id": "fea3d61e",
   "metadata": {},
   "outputs": [],
   "source": [
    "pay_nonzero = df[pay_features].mask(df[pay_features] == 0)\n",
    "pay_log = pay_nonzero.apply(np.log10)\n",
    "\n",
    "plt.figure(figsize=(15, 8))\n",
    "for i, col in enumerate(pay_log.columns):\n",
    "    plt.subplot(2, 3, i + 1)\n",
    "    plt.hist(pay_log[col].dropna(), bins=20, color='salmon', edgecolor='black')\n",
    "    plt.title(f'log10({col})')\n",
    "    plt.xticks(rotation=45)\n",
    "plt.tight_layout()\n",
    "plt.show()"
   ]
  }
 ],
 "metadata": {
  "kernelspec": {
   "display_name": "Python 3",
   "name": "python3"
  },
  "language_info": {
   "name": "python",
   "version": "3.11"
  }
 },
 "nbformat": 4,
 "nbformat_minor": 5
}
